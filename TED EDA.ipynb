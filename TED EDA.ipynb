{
 "cells": [
  {
   "cell_type": "markdown",
   "id": "713aa473",
   "metadata": {},
   "source": [
    "## TED EDA"
   ]
  },
  {
   "cell_type": "code",
   "execution_count": 1,
   "id": "18494ae8",
   "metadata": {},
   "outputs": [],
   "source": [
    "import pandas as pd\n",
    "import matplotlib.pyplot as plt\n",
    "%matplotlib inline\n"
   ]
  },
  {
   "cell_type": "code",
   "execution_count": 2,
   "id": "1b9fcbbb",
   "metadata": {},
   "outputs": [
    {
     "data": {
      "text/plain": [
       "(2550, 17)"
      ]
     },
     "execution_count": 2,
     "metadata": {},
     "output_type": "execute_result"
    }
   ],
   "source": [
    "ted = pd.read_csv(\"https://raw.githubusercontent.com/justmarkham/pycon-2019-tutorial/master/ted.csv\")\n",
    "ted.shape"
   ]
  },
  {
   "cell_type": "code",
   "execution_count": 3,
   "id": "469414df",
   "metadata": {},
   "outputs": [
    {
     "data": {
      "text/plain": [
       "comments              0\n",
       "description           0\n",
       "duration              0\n",
       "event                 0\n",
       "film_date             0\n",
       "languages             0\n",
       "main_speaker          0\n",
       "name                  0\n",
       "num_speaker           0\n",
       "published_date        0\n",
       "ratings               0\n",
       "related_talks         0\n",
       "speaker_occupation    6\n",
       "tags                  0\n",
       "title                 0\n",
       "url                   0\n",
       "views                 0\n",
       "dtype: int64"
      ]
     },
     "execution_count": 3,
     "metadata": {},
     "output_type": "execute_result"
    }
   ],
   "source": [
    "ted.isna().sum()"
   ]
  },
  {
   "cell_type": "code",
   "execution_count": 4,
   "id": "0f8cb453",
   "metadata": {},
   "outputs": [
    {
     "data": {
      "text/html": [
       "<div>\n",
       "<style scoped>\n",
       "    .dataframe tbody tr th:only-of-type {\n",
       "        vertical-align: middle;\n",
       "    }\n",
       "\n",
       "    .dataframe tbody tr th {\n",
       "        vertical-align: top;\n",
       "    }\n",
       "\n",
       "    .dataframe thead th {\n",
       "        text-align: right;\n",
       "    }\n",
       "</style>\n",
       "<table border=\"1\" class=\"dataframe\">\n",
       "  <thead>\n",
       "    <tr style=\"text-align: right;\">\n",
       "      <th></th>\n",
       "      <th>comments</th>\n",
       "      <th>description</th>\n",
       "      <th>duration</th>\n",
       "      <th>event</th>\n",
       "      <th>film_date</th>\n",
       "      <th>languages</th>\n",
       "      <th>main_speaker</th>\n",
       "      <th>name</th>\n",
       "      <th>num_speaker</th>\n",
       "      <th>published_date</th>\n",
       "      <th>ratings</th>\n",
       "      <th>related_talks</th>\n",
       "      <th>speaker_occupation</th>\n",
       "      <th>tags</th>\n",
       "      <th>title</th>\n",
       "      <th>url</th>\n",
       "      <th>views</th>\n",
       "    </tr>\n",
       "  </thead>\n",
       "  <tbody>\n",
       "    <tr>\n",
       "      <th>1411</th>\n",
       "      <td>134</td>\n",
       "      <td>This talk paints the funny and touching story ...</td>\n",
       "      <td>1128</td>\n",
       "      <td>TEDxHampshireCollege</td>\n",
       "      <td>1350000000</td>\n",
       "      <td>26</td>\n",
       "      <td>Jarrett J. Krosoczka</td>\n",
       "      <td>Jarrett J. Krosoczka: How a boy became an artist</td>\n",
       "      <td>1</td>\n",
       "      <td>1357747468</td>\n",
       "      <td>[{'id': 10, 'name': 'Inspiring', 'count': 663}...</td>\n",
       "      <td>[{'id': 652, 'hero': 'https://pe.tedcdn.com/im...</td>\n",
       "      <td>Author/illustrator</td>\n",
       "      <td>['TEDx', 'art', 'books', 'children', 'design',...</td>\n",
       "      <td>How a boy became an artist</td>\n",
       "      <td>https://www.ted.com/talks/jarrett_j_krosoczka_...</td>\n",
       "      <td>879676</td>\n",
       "    </tr>\n",
       "    <tr>\n",
       "      <th>845</th>\n",
       "      <td>250</td>\n",
       "      <td>Technology is evolving us, says Amber Case, as...</td>\n",
       "      <td>473</td>\n",
       "      <td>TEDWomen 2010</td>\n",
       "      <td>1291766400</td>\n",
       "      <td>38</td>\n",
       "      <td>Amber Case</td>\n",
       "      <td>Amber Case: We are all cyborgs now</td>\n",
       "      <td>1</td>\n",
       "      <td>1294758900</td>\n",
       "      <td>[{'id': 21, 'name': 'Unconvincing', 'count': 1...</td>\n",
       "      <td>[{'id': 19, 'hero': 'https://pe.tedcdn.com/ima...</td>\n",
       "      <td>Cyborg Anthropologist</td>\n",
       "      <td>['anthropology', 'computers', 'culture', 'cybo...</td>\n",
       "      <td>We are all cyborgs now</td>\n",
       "      <td>https://www.ted.com/talks/amber_case_we_are_al...</td>\n",
       "      <td>1475333</td>\n",
       "    </tr>\n",
       "  </tbody>\n",
       "</table>\n",
       "</div>"
      ],
      "text/plain": [
       "      comments                                        description  duration  \\\n",
       "1411       134  This talk paints the funny and touching story ...      1128   \n",
       "845        250  Technology is evolving us, says Amber Case, as...       473   \n",
       "\n",
       "                     event   film_date  languages          main_speaker  \\\n",
       "1411  TEDxHampshireCollege  1350000000         26  Jarrett J. Krosoczka   \n",
       "845          TEDWomen 2010  1291766400         38            Amber Case   \n",
       "\n",
       "                                                  name  num_speaker  \\\n",
       "1411  Jarrett J. Krosoczka: How a boy became an artist            1   \n",
       "845                 Amber Case: We are all cyborgs now            1   \n",
       "\n",
       "      published_date                                            ratings  \\\n",
       "1411      1357747468  [{'id': 10, 'name': 'Inspiring', 'count': 663}...   \n",
       "845       1294758900  [{'id': 21, 'name': 'Unconvincing', 'count': 1...   \n",
       "\n",
       "                                          related_talks  \\\n",
       "1411  [{'id': 652, 'hero': 'https://pe.tedcdn.com/im...   \n",
       "845   [{'id': 19, 'hero': 'https://pe.tedcdn.com/ima...   \n",
       "\n",
       "          speaker_occupation  \\\n",
       "1411      Author/illustrator   \n",
       "845   Cyborg Anthropologist    \n",
       "\n",
       "                                                   tags  \\\n",
       "1411  ['TEDx', 'art', 'books', 'children', 'design',...   \n",
       "845   ['anthropology', 'computers', 'culture', 'cybo...   \n",
       "\n",
       "                           title  \\\n",
       "1411  How a boy became an artist   \n",
       "845       We are all cyborgs now   \n",
       "\n",
       "                                                    url    views  \n",
       "1411  https://www.ted.com/talks/jarrett_j_krosoczka_...   879676  \n",
       "845   https://www.ted.com/talks/amber_case_we_are_al...  1475333  "
      ]
     },
     "execution_count": 4,
     "metadata": {},
     "output_type": "execute_result"
    }
   ],
   "source": [
    "# which talks provooke the most online discussion ??\n",
    "\n",
    "ted.sample(2)"
   ]
  },
  {
   "cell_type": "code",
   "execution_count": 11,
   "id": "f46d8f54",
   "metadata": {},
   "outputs": [
    {
     "data": {
      "text/html": [
       "<div>\n",
       "<style scoped>\n",
       "    .dataframe tbody tr th:only-of-type {\n",
       "        vertical-align: middle;\n",
       "    }\n",
       "\n",
       "    .dataframe tbody tr th {\n",
       "        vertical-align: top;\n",
       "    }\n",
       "\n",
       "    .dataframe thead th {\n",
       "        text-align: right;\n",
       "    }\n",
       "</style>\n",
       "<table border=\"1\" class=\"dataframe\">\n",
       "  <thead>\n",
       "    <tr style=\"text-align: right;\">\n",
       "      <th></th>\n",
       "      <th>comments</th>\n",
       "      <th>description</th>\n",
       "      <th>duration</th>\n",
       "      <th>event</th>\n",
       "      <th>film_date</th>\n",
       "      <th>languages</th>\n",
       "      <th>main_speaker</th>\n",
       "      <th>name</th>\n",
       "      <th>num_speaker</th>\n",
       "      <th>published_date</th>\n",
       "      <th>ratings</th>\n",
       "      <th>related_talks</th>\n",
       "      <th>speaker_occupation</th>\n",
       "      <th>tags</th>\n",
       "      <th>title</th>\n",
       "      <th>url</th>\n",
       "      <th>views</th>\n",
       "    </tr>\n",
       "  </thead>\n",
       "  <tbody>\n",
       "    <tr>\n",
       "      <th>96</th>\n",
       "      <td>6404</td>\n",
       "      <td>Richard Dawkins urges all atheists to openly s...</td>\n",
       "      <td>1750</td>\n",
       "      <td>TED2002</td>\n",
       "      <td>1012608000</td>\n",
       "      <td>42</td>\n",
       "      <td>Richard Dawkins</td>\n",
       "      <td>Richard Dawkins: Militant atheism</td>\n",
       "      <td>1</td>\n",
       "      <td>1176689220</td>\n",
       "      <td>[{'id': 3, 'name': 'Courageous', 'count': 3236...</td>\n",
       "      <td>[{'id': 86, 'hero': 'https://pe.tedcdn.com/ima...</td>\n",
       "      <td>Evolutionary biologist</td>\n",
       "      <td>['God', 'atheism', 'culture', 'religion', 'sci...</td>\n",
       "      <td>Militant atheism</td>\n",
       "      <td>https://www.ted.com/talks/richard_dawkins_on_m...</td>\n",
       "      <td>4374792</td>\n",
       "    </tr>\n",
       "  </tbody>\n",
       "</table>\n",
       "</div>"
      ],
      "text/plain": [
       "    comments                                        description  duration  \\\n",
       "96      6404  Richard Dawkins urges all atheists to openly s...      1750   \n",
       "\n",
       "      event   film_date  languages     main_speaker  \\\n",
       "96  TED2002  1012608000         42  Richard Dawkins   \n",
       "\n",
       "                                 name  num_speaker  published_date  \\\n",
       "96  Richard Dawkins: Militant atheism            1      1176689220   \n",
       "\n",
       "                                              ratings  \\\n",
       "96  [{'id': 3, 'name': 'Courageous', 'count': 3236...   \n",
       "\n",
       "                                        related_talks      speaker_occupation  \\\n",
       "96  [{'id': 86, 'hero': 'https://pe.tedcdn.com/ima...  Evolutionary biologist   \n",
       "\n",
       "                                                 tags             title  \\\n",
       "96  ['God', 'atheism', 'culture', 'religion', 'sci...  Militant atheism   \n",
       "\n",
       "                                                  url    views  \n",
       "96  https://www.ted.com/talks/richard_dawkins_on_m...  4374792  "
      ]
     },
     "execution_count": 11,
     "metadata": {},
     "output_type": "execute_result"
    }
   ],
   "source": [
    "x = ted.comments.max()\n",
    "\n",
    "ted.loc[ted.comments==x]"
   ]
  },
  {
   "cell_type": "code",
   "execution_count": 4,
   "id": "d68fabc7",
   "metadata": {},
   "outputs": [],
   "source": [
    "ted['cmnts_per_view'] = ted.comments / ted.views "
   ]
  },
  {
   "cell_type": "code",
   "execution_count": 5,
   "id": "41b47b67",
   "metadata": {},
   "outputs": [
    {
     "data": {
      "text/html": [
       "<div>\n",
       "<style scoped>\n",
       "    .dataframe tbody tr th:only-of-type {\n",
       "        vertical-align: middle;\n",
       "    }\n",
       "\n",
       "    .dataframe tbody tr th {\n",
       "        vertical-align: top;\n",
       "    }\n",
       "\n",
       "    .dataframe thead th {\n",
       "        text-align: right;\n",
       "    }\n",
       "</style>\n",
       "<table border=\"1\" class=\"dataframe\">\n",
       "  <thead>\n",
       "    <tr style=\"text-align: right;\">\n",
       "      <th></th>\n",
       "      <th>comments</th>\n",
       "      <th>description</th>\n",
       "      <th>duration</th>\n",
       "      <th>event</th>\n",
       "      <th>film_date</th>\n",
       "      <th>languages</th>\n",
       "      <th>main_speaker</th>\n",
       "      <th>name</th>\n",
       "      <th>num_speaker</th>\n",
       "      <th>published_date</th>\n",
       "      <th>ratings</th>\n",
       "      <th>related_talks</th>\n",
       "      <th>speaker_occupation</th>\n",
       "      <th>tags</th>\n",
       "      <th>title</th>\n",
       "      <th>url</th>\n",
       "      <th>views</th>\n",
       "      <th>cmnts_per_view</th>\n",
       "    </tr>\n",
       "  </thead>\n",
       "  <tbody>\n",
       "    <tr>\n",
       "      <th>914</th>\n",
       "      <td>273</td>\n",
       "      <td>Pioneering surgeon Susan Lim performed the fir...</td>\n",
       "      <td>986</td>\n",
       "      <td>INK Conference</td>\n",
       "      <td>1291680000</td>\n",
       "      <td>31</td>\n",
       "      <td>Susan Lim</td>\n",
       "      <td>Susan Lim: Transplant cells, not organs</td>\n",
       "      <td>1</td>\n",
       "      <td>1302893220</td>\n",
       "      <td>[{'id': 3, 'name': 'Courageous', 'count': 1135...</td>\n",
       "      <td>[{'id': 744, 'hero': 'https://pe.tedcdn.com/im...</td>\n",
       "      <td>Surgeon</td>\n",
       "      <td>['business', 'technology']</td>\n",
       "      <td>Transplant cells, not organs</td>\n",
       "      <td>https://www.ted.com/talks/susan_lim</td>\n",
       "      <td>620231</td>\n",
       "      <td>0.00044</td>\n",
       "    </tr>\n",
       "  </tbody>\n",
       "</table>\n",
       "</div>"
      ],
      "text/plain": [
       "     comments                                        description  duration  \\\n",
       "914       273  Pioneering surgeon Susan Lim performed the fir...       986   \n",
       "\n",
       "              event   film_date  languages main_speaker  \\\n",
       "914  INK Conference  1291680000         31    Susan Lim   \n",
       "\n",
       "                                        name  num_speaker  published_date  \\\n",
       "914  Susan Lim: Transplant cells, not organs            1      1302893220   \n",
       "\n",
       "                                               ratings  \\\n",
       "914  [{'id': 3, 'name': 'Courageous', 'count': 1135...   \n",
       "\n",
       "                                         related_talks speaker_occupation  \\\n",
       "914  [{'id': 744, 'hero': 'https://pe.tedcdn.com/im...            Surgeon   \n",
       "\n",
       "                           tags                         title  \\\n",
       "914  ['business', 'technology']  Transplant cells, not organs   \n",
       "\n",
       "                                     url   views  cmnts_per_view  \n",
       "914  https://www.ted.com/talks/susan_lim  620231         0.00044  "
      ]
     },
     "execution_count": 5,
     "metadata": {},
     "output_type": "execute_result"
    }
   ],
   "source": [
    "ted.sample(1)"
   ]
  },
  {
   "cell_type": "code",
   "execution_count": 36,
   "id": "70a0d35c",
   "metadata": {
    "scrolled": true
   },
   "outputs": [
    {
     "data": {
      "text/html": [
       "<div>\n",
       "<style scoped>\n",
       "    .dataframe tbody tr th:only-of-type {\n",
       "        vertical-align: middle;\n",
       "    }\n",
       "\n",
       "    .dataframe tbody tr th {\n",
       "        vertical-align: top;\n",
       "    }\n",
       "\n",
       "    .dataframe thead th {\n",
       "        text-align: right;\n",
       "    }\n",
       "</style>\n",
       "<table border=\"1\" class=\"dataframe\">\n",
       "  <thead>\n",
       "    <tr style=\"text-align: right;\">\n",
       "      <th></th>\n",
       "      <th>comments</th>\n",
       "      <th>description</th>\n",
       "      <th>duration</th>\n",
       "      <th>event</th>\n",
       "      <th>film_date</th>\n",
       "      <th>languages</th>\n",
       "      <th>main_speaker</th>\n",
       "      <th>name</th>\n",
       "      <th>num_speaker</th>\n",
       "      <th>published_date</th>\n",
       "      <th>ratings</th>\n",
       "      <th>related_talks</th>\n",
       "      <th>speaker_occupation</th>\n",
       "      <th>tags</th>\n",
       "      <th>title</th>\n",
       "      <th>url</th>\n",
       "      <th>views</th>\n",
       "      <th>cmnts_per_view</th>\n",
       "    </tr>\n",
       "  </thead>\n",
       "  <tbody>\n",
       "    <tr>\n",
       "      <th>803</th>\n",
       "      <td>834</td>\n",
       "      <td>David Bismark demos a new system for voting th...</td>\n",
       "      <td>422</td>\n",
       "      <td>TEDGlobal 2010</td>\n",
       "      <td>1279065600</td>\n",
       "      <td>36</td>\n",
       "      <td>David Bismark</td>\n",
       "      <td>David Bismark: E-voting without fraud</td>\n",
       "      <td>1</td>\n",
       "      <td>1288685640</td>\n",
       "      <td>[{'id': 25, 'name': 'OK', 'count': 111}, {'id'...</td>\n",
       "      <td>[{'id': 803, 'hero': 'https://pe.tedcdn.com/im...</td>\n",
       "      <td>Voting system designer</td>\n",
       "      <td>['culture', 'democracy', 'design', 'global iss...</td>\n",
       "      <td>E-voting without fraud</td>\n",
       "      <td>https://www.ted.com/talks/david_bismark_e_voti...</td>\n",
       "      <td>543551</td>\n",
       "      <td>0.001534</td>\n",
       "    </tr>\n",
       "    <tr>\n",
       "      <th>744</th>\n",
       "      <td>649</td>\n",
       "      <td>Hours before New York lawmakers rejected a key...</td>\n",
       "      <td>453</td>\n",
       "      <td>New York State Senate</td>\n",
       "      <td>1259712000</td>\n",
       "      <td>0</td>\n",
       "      <td>Diane J. Savino</td>\n",
       "      <td>Diane J. Savino: The case for same-sex marriage</td>\n",
       "      <td>1</td>\n",
       "      <td>1282062180</td>\n",
       "      <td>[{'id': 25, 'name': 'OK', 'count': 100}, {'id'...</td>\n",
       "      <td>[{'id': 217, 'hero': 'https://pe.tedcdn.com/im...</td>\n",
       "      <td>Senator</td>\n",
       "      <td>['God', 'LGBT', 'culture', 'government', 'law'...</td>\n",
       "      <td>The case for same-sex marriage</td>\n",
       "      <td>https://www.ted.com/talks/diane_j_savino_the_c...</td>\n",
       "      <td>292395</td>\n",
       "      <td>0.002220</td>\n",
       "    </tr>\n",
       "  </tbody>\n",
       "</table>\n",
       "</div>"
      ],
      "text/plain": [
       "     comments                                        description  duration  \\\n",
       "803       834  David Bismark demos a new system for voting th...       422   \n",
       "744       649  Hours before New York lawmakers rejected a key...       453   \n",
       "\n",
       "                     event   film_date  languages     main_speaker  \\\n",
       "803         TEDGlobal 2010  1279065600         36    David Bismark   \n",
       "744  New York State Senate  1259712000          0  Diane J. Savino   \n",
       "\n",
       "                                                name  num_speaker  \\\n",
       "803            David Bismark: E-voting without fraud            1   \n",
       "744  Diane J. Savino: The case for same-sex marriage            1   \n",
       "\n",
       "     published_date                                            ratings  \\\n",
       "803      1288685640  [{'id': 25, 'name': 'OK', 'count': 111}, {'id'...   \n",
       "744      1282062180  [{'id': 25, 'name': 'OK', 'count': 100}, {'id'...   \n",
       "\n",
       "                                         related_talks  \\\n",
       "803  [{'id': 803, 'hero': 'https://pe.tedcdn.com/im...   \n",
       "744  [{'id': 217, 'hero': 'https://pe.tedcdn.com/im...   \n",
       "\n",
       "         speaker_occupation  \\\n",
       "803  Voting system designer   \n",
       "744                 Senator   \n",
       "\n",
       "                                                  tags  \\\n",
       "803  ['culture', 'democracy', 'design', 'global iss...   \n",
       "744  ['God', 'LGBT', 'culture', 'government', 'law'...   \n",
       "\n",
       "                              title  \\\n",
       "803          E-voting without fraud   \n",
       "744  The case for same-sex marriage   \n",
       "\n",
       "                                                   url   views  cmnts_per_view  \n",
       "803  https://www.ted.com/talks/david_bismark_e_voti...  543551        0.001534  \n",
       "744  https://www.ted.com/talks/diane_j_savino_the_c...  292395        0.002220  "
      ]
     },
     "execution_count": 36,
     "metadata": {},
     "output_type": "execute_result"
    }
   ],
   "source": [
    "ted.sort_values(by='cmnts_per_view').tail(2)"
   ]
  },
  {
   "cell_type": "code",
   "execution_count": 6,
   "id": "4605d66d",
   "metadata": {},
   "outputs": [],
   "source": [
    "ted['views_per_cmts'] =   ted.views/ted.comments "
   ]
  },
  {
   "cell_type": "code",
   "execution_count": 7,
   "id": "b08a2a9c",
   "metadata": {},
   "outputs": [
    {
     "data": {
      "text/html": [
       "<div>\n",
       "<style scoped>\n",
       "    .dataframe tbody tr th:only-of-type {\n",
       "        vertical-align: middle;\n",
       "    }\n",
       "\n",
       "    .dataframe tbody tr th {\n",
       "        vertical-align: top;\n",
       "    }\n",
       "\n",
       "    .dataframe thead th {\n",
       "        text-align: right;\n",
       "    }\n",
       "</style>\n",
       "<table border=\"1\" class=\"dataframe\">\n",
       "  <thead>\n",
       "    <tr style=\"text-align: right;\">\n",
       "      <th></th>\n",
       "      <th>comments</th>\n",
       "      <th>description</th>\n",
       "      <th>duration</th>\n",
       "      <th>event</th>\n",
       "      <th>film_date</th>\n",
       "      <th>languages</th>\n",
       "      <th>main_speaker</th>\n",
       "      <th>name</th>\n",
       "      <th>num_speaker</th>\n",
       "      <th>published_date</th>\n",
       "      <th>ratings</th>\n",
       "      <th>related_talks</th>\n",
       "      <th>speaker_occupation</th>\n",
       "      <th>tags</th>\n",
       "      <th>title</th>\n",
       "      <th>url</th>\n",
       "      <th>views</th>\n",
       "      <th>cmnts_per_view</th>\n",
       "      <th>views_per_cmts</th>\n",
       "    </tr>\n",
       "  </thead>\n",
       "  <tbody>\n",
       "    <tr>\n",
       "      <th>2501</th>\n",
       "      <td>3</td>\n",
       "      <td>Meet Françoise Mouly, The New Yorker's art dir...</td>\n",
       "      <td>509</td>\n",
       "      <td>TEDNYC</td>\n",
       "      <td>1488931200</td>\n",
       "      <td>12</td>\n",
       "      <td>Françoise Mouly</td>\n",
       "      <td>Françoise Mouly: The stories behind The New Yo...</td>\n",
       "      <td>1</td>\n",
       "      <td>1501770244</td>\n",
       "      <td>[{'id': 7, 'name': 'Funny', 'count': 10}, {'id...</td>\n",
       "      <td>[{'id': 2479, 'hero': 'https://pe.tedcdn.com/i...</td>\n",
       "      <td>Art editor</td>\n",
       "      <td>['TEDNYC', 'art', 'creativity', 'culture', 'de...</td>\n",
       "      <td>The stories behind The New Yorker's iconic covers</td>\n",
       "      <td>https://www.ted.com/talks/francoise_mouly_the_...</td>\n",
       "      <td>839040</td>\n",
       "      <td>0.000004</td>\n",
       "      <td>279680.0</td>\n",
       "    </tr>\n",
       "    <tr>\n",
       "      <th>2534</th>\n",
       "      <td>2</td>\n",
       "      <td>What the astronauts felt when they saw Earth f...</td>\n",
       "      <td>725</td>\n",
       "      <td>TEDxSkoll</td>\n",
       "      <td>1491523200</td>\n",
       "      <td>1</td>\n",
       "      <td>Benjamin Grant</td>\n",
       "      <td>Benjamin Grant: What it feels like to see Eart...</td>\n",
       "      <td>1</td>\n",
       "      <td>1504814438</td>\n",
       "      <td>[{'id': 10, 'name': 'Inspiring', 'count': 46},...</td>\n",
       "      <td>[{'id': 2511, 'hero': 'https://pe.tedcdn.com/i...</td>\n",
       "      <td>Author</td>\n",
       "      <td>['TEDx', 'art', 'climate change', 'environment...</td>\n",
       "      <td>What it feels like to see Earth from space</td>\n",
       "      <td>https://www.ted.com/talks/benjamin_grant_what_...</td>\n",
       "      <td>646174</td>\n",
       "      <td>0.000003</td>\n",
       "      <td>323087.0</td>\n",
       "    </tr>\n",
       "  </tbody>\n",
       "</table>\n",
       "</div>"
      ],
      "text/plain": [
       "      comments                                        description  duration  \\\n",
       "2501         3  Meet Françoise Mouly, The New Yorker's art dir...       509   \n",
       "2534         2  What the astronauts felt when they saw Earth f...       725   \n",
       "\n",
       "          event   film_date  languages     main_speaker  \\\n",
       "2501     TEDNYC  1488931200         12  Françoise Mouly   \n",
       "2534  TEDxSkoll  1491523200          1   Benjamin Grant   \n",
       "\n",
       "                                                   name  num_speaker  \\\n",
       "2501  Françoise Mouly: The stories behind The New Yo...            1   \n",
       "2534  Benjamin Grant: What it feels like to see Eart...            1   \n",
       "\n",
       "      published_date                                            ratings  \\\n",
       "2501      1501770244  [{'id': 7, 'name': 'Funny', 'count': 10}, {'id...   \n",
       "2534      1504814438  [{'id': 10, 'name': 'Inspiring', 'count': 46},...   \n",
       "\n",
       "                                          related_talks speaker_occupation  \\\n",
       "2501  [{'id': 2479, 'hero': 'https://pe.tedcdn.com/i...         Art editor   \n",
       "2534  [{'id': 2511, 'hero': 'https://pe.tedcdn.com/i...             Author   \n",
       "\n",
       "                                                   tags  \\\n",
       "2501  ['TEDNYC', 'art', 'creativity', 'culture', 'de...   \n",
       "2534  ['TEDx', 'art', 'climate change', 'environment...   \n",
       "\n",
       "                                                  title  \\\n",
       "2501  The stories behind The New Yorker's iconic covers   \n",
       "2534         What it feels like to see Earth from space   \n",
       "\n",
       "                                                    url   views  \\\n",
       "2501  https://www.ted.com/talks/francoise_mouly_the_...  839040   \n",
       "2534  https://www.ted.com/talks/benjamin_grant_what_...  646174   \n",
       "\n",
       "      cmnts_per_view  views_per_cmts  \n",
       "2501        0.000004        279680.0  \n",
       "2534        0.000003        323087.0  "
      ]
     },
     "execution_count": 7,
     "metadata": {},
     "output_type": "execute_result"
    }
   ],
   "source": [
    "ted.sort_values(by='views_per_cmts').tail(2)"
   ]
  },
  {
   "cell_type": "code",
   "execution_count": 42,
   "id": "49cae646",
   "metadata": {
    "scrolled": true
   },
   "outputs": [
    {
     "data": {
      "text/plain": [
       "<AxesSubplot:>"
      ]
     },
     "execution_count": 42,
     "metadata": {},
     "output_type": "execute_result"
    },
    {
     "data": {
      "image/png": "[encoded data removed]",
      "text/plain": [
       "<Figure size 432x288 with 1 Axes>"
      ]
     },
     "metadata": {
      "needs_background": "light"
     },
     "output_type": "display_data"
    }
   ],
   "source": [
    "#3.  Visualize the distribution of comments \n",
    "\n",
    "ted.comments.plot()"
   ]
  },
  {
   "cell_type": "code",
   "execution_count": 50,
   "id": "0ffde8f6",
   "metadata": {},
   "outputs": [
    {
     "data": {
      "text/plain": [
       "(32, 19)"
      ]
     },
     "execution_count": 50,
     "metadata": {},
     "output_type": "execute_result"
    }
   ],
   "source": [
    "ted[ted.comments>=1000].shape"
   ]
  },
  {
   "cell_type": "code",
   "execution_count": 49,
   "id": "c4d814cd",
   "metadata": {},
   "outputs": [
    {
     "data": {
      "text/plain": [
       "<AxesSubplot:ylabel='Frequency'>"
      ]
     },
     "execution_count": 49,
     "metadata": {},
     "output_type": "execute_result"
    },
    {
     "data": {
      "image/png": "[encoded data removed]",
      "text/plain": [
       "<Figure size 432x288 with 1 Axes>"
      ]
     },
     "metadata": {
      "needs_background": "light"
     },
     "output_type": "display_data"
    }
   ],
   "source": [
    "ted[ted.comments<1000].comments.plot(kind='hist',bins=15)"
   ]
  },
  {
   "cell_type": "code",
   "execution_count": 51,
   "id": "f134b835",
   "metadata": {},
   "outputs": [
    {
     "data": {
      "text/plain": [
       "<AxesSubplot:ylabel='Frequency'>"
      ]
     },
     "execution_count": 51,
     "metadata": {},
     "output_type": "execute_result"
    },
    {
     "data": {
      "image/png": "[encoded data removed]",
      "text/plain": [
       "<Figure size 432x288 with 1 Axes>"
      ]
     },
     "metadata": {
      "needs_background": "light"
     },
     "output_type": "display_data"
    }
   ],
   "source": [
    "ted.query('comments<1000').comments.plot(kind='hist')"
   ]
  },
  {
   "cell_type": "code",
   "execution_count": 54,
   "id": "01a22f7c",
   "metadata": {},
   "outputs": [
    {
     "data": {
      "text/plain": [
       "<AxesSubplot:ylabel='Frequency'>"
      ]
     },
     "execution_count": 54,
     "metadata": {},
     "output_type": "execute_result"
    },
    {
     "data": {
      "image/png": "[encoded data removed]",
      "text/plain": [
       "<Figure size 432x288 with 1 Axes>"
      ]
     },
     "metadata": {
      "needs_background": "light"
     },
     "output_type": "display_data"
    }
   ],
   "source": [
    "ted.loc[ted.comments<1000,'comments'].plot(kind='hist',bins=20)"
   ]
  },
  {
   "cell_type": "code",
   "execution_count": 55,
   "id": "571a94ab",
   "metadata": {},
   "outputs": [
    {
     "data": {
      "text/plain": [
       "<AxesSubplot:>"
      ]
     },
     "execution_count": 55,
     "metadata": {},
     "output_type": "execute_result"
    },
    {
     "data": {
      "image/png": "[encoded data removed]",
      "text/plain": [
       "<Figure size 432x288 with 1 Axes>"
      ]
     },
     "metadata": {
      "needs_background": "light"
     },
     "output_type": "display_data"
    }
   ],
   "source": [
    "ted.loc[ted.comments<1000,'comments'].plot(kind='box')"
   ]
  },
  {
   "cell_type": "code",
   "execution_count": 56,
   "id": "97ea7084",
   "metadata": {},
   "outputs": [
    {
     "data": {
      "text/html": [
       "<div>\n",
       "<style scoped>\n",
       "    .dataframe tbody tr th:only-of-type {\n",
       "        vertical-align: middle;\n",
       "    }\n",
       "\n",
       "    .dataframe tbody tr th {\n",
       "        vertical-align: top;\n",
       "    }\n",
       "\n",
       "    .dataframe thead th {\n",
       "        text-align: right;\n",
       "    }\n",
       "</style>\n",
       "<table border=\"1\" class=\"dataframe\">\n",
       "  <thead>\n",
       "    <tr style=\"text-align: right;\">\n",
       "      <th></th>\n",
       "      <th>comments</th>\n",
       "      <th>description</th>\n",
       "      <th>duration</th>\n",
       "      <th>event</th>\n",
       "      <th>film_date</th>\n",
       "      <th>languages</th>\n",
       "      <th>main_speaker</th>\n",
       "      <th>name</th>\n",
       "      <th>num_speaker</th>\n",
       "      <th>published_date</th>\n",
       "      <th>ratings</th>\n",
       "      <th>related_talks</th>\n",
       "      <th>speaker_occupation</th>\n",
       "      <th>tags</th>\n",
       "      <th>title</th>\n",
       "      <th>url</th>\n",
       "      <th>views</th>\n",
       "      <th>cmnts_per_view</th>\n",
       "      <th>views_per_cmts</th>\n",
       "    </tr>\n",
       "  </thead>\n",
       "  <tbody>\n",
       "    <tr>\n",
       "      <th>1533</th>\n",
       "      <td>1000</td>\n",
       "      <td>As a young surgeon, Peter Attia felt contempt ...</td>\n",
       "      <td>958</td>\n",
       "      <td>TEDMED 2013</td>\n",
       "      <td>1365120000</td>\n",
       "      <td>37</td>\n",
       "      <td>Peter Attia</td>\n",
       "      <td>Peter Attia: Is the obesity crisis hiding a bi...</td>\n",
       "      <td>1</td>\n",
       "      <td>1372172562</td>\n",
       "      <td>[{'id': 23, 'name': 'Jaw-dropping', 'count': 3...</td>\n",
       "      <td>[{'id': 1711, 'hero': 'https://pe.tedcdn.com/i...</td>\n",
       "      <td>Surgeon</td>\n",
       "      <td>['health', 'health care', 'medical research', ...</td>\n",
       "      <td>Is the obesity crisis hiding a bigger problem?</td>\n",
       "      <td>https://www.ted.com/talks/peter_attia_what_if_...</td>\n",
       "      <td>2459753</td>\n",
       "      <td>0.000407</td>\n",
       "      <td>2459.753</td>\n",
       "    </tr>\n",
       "  </tbody>\n",
       "</table>\n",
       "</div>"
      ],
      "text/plain": [
       "      comments                                        description  duration  \\\n",
       "1533      1000  As a young surgeon, Peter Attia felt contempt ...       958   \n",
       "\n",
       "            event   film_date  languages main_speaker  \\\n",
       "1533  TEDMED 2013  1365120000         37  Peter Attia   \n",
       "\n",
       "                                                   name  num_speaker  \\\n",
       "1533  Peter Attia: Is the obesity crisis hiding a bi...            1   \n",
       "\n",
       "      published_date                                            ratings  \\\n",
       "1533      1372172562  [{'id': 23, 'name': 'Jaw-dropping', 'count': 3...   \n",
       "\n",
       "                                          related_talks speaker_occupation  \\\n",
       "1533  [{'id': 1711, 'hero': 'https://pe.tedcdn.com/i...            Surgeon   \n",
       "\n",
       "                                                   tags  \\\n",
       "1533  ['health', 'health care', 'medical research', ...   \n",
       "\n",
       "                                               title  \\\n",
       "1533  Is the obesity crisis hiding a bigger problem?   \n",
       "\n",
       "                                                    url    views  \\\n",
       "1533  https://www.ted.com/talks/peter_attia_what_if_...  2459753   \n",
       "\n",
       "      cmnts_per_view  views_per_cmts  \n",
       "1533        0.000407        2459.753  "
      ]
     },
     "execution_count": 56,
     "metadata": {},
     "output_type": "execute_result"
    }
   ],
   "source": [
    "# 3. plot the number of talks that took each year\n",
    "ted.sample(1)"
   ]
  },
  {
   "cell_type": "code",
   "execution_count": 8,
   "id": "38758dcd",
   "metadata": {},
   "outputs": [
    {
     "data": {
      "text/plain": [
       "1952    1412121600\n",
       "849     1291766400\n",
       "1170    1321056000\n",
       "1587    1372118400\n",
       "247     1197417600\n",
       "1950    1426636800\n",
       "481     1233878400\n",
       "1044    1319155200\n",
       "2458    1492992000\n",
       "2517    1492992000\n",
       "Name: film_date, dtype: int64"
      ]
     },
     "execution_count": 8,
     "metadata": {},
     "output_type": "execute_result"
    }
   ],
   "source": [
    "ted.film_date.sample(10)"
   ]
  },
  {
   "cell_type": "code",
   "execution_count": 9,
   "id": "d49f03e2",
   "metadata": {},
   "outputs": [
    {
     "data": {
      "text/plain": [
       "2      2006-02-24\n",
       "1731   2014-03-19\n",
       "2251   2016-06-26\n",
       "265    2008-02-02\n",
       "350    2004-03-01\n",
       "317    2004-02-29\n",
       "780    2010-09-20\n",
       "1788   2013-11-12\n",
       "224    2008-03-03\n",
       "1173   2012-03-12\n",
       "Name: film_date, dtype: datetime64[ns]"
      ]
     },
     "execution_count": 9,
     "metadata": {},
     "output_type": "execute_result"
    }
   ],
   "source": [
    "pd.to_datetime(ted.film_date,unit='s').sample(10)"
   ]
  },
  {
   "cell_type": "code",
   "execution_count": 10,
   "id": "e9d5f6c9",
   "metadata": {},
   "outputs": [],
   "source": [
    "ted['film_datetime'] = pd.to_datetime(ted.film_date,unit='s')"
   ]
  },
  {
   "cell_type": "code",
   "execution_count": 11,
   "id": "023f67d0",
   "metadata": {},
   "outputs": [
    {
     "data": {
      "text/html": [
       "<div>\n",
       "<style scoped>\n",
       "    .dataframe tbody tr th:only-of-type {\n",
       "        vertical-align: middle;\n",
       "    }\n",
       "\n",
       "    .dataframe tbody tr th {\n",
       "        vertical-align: top;\n",
       "    }\n",
       "\n",
       "    .dataframe thead th {\n",
       "        text-align: right;\n",
       "    }\n",
       "</style>\n",
       "<table border=\"1\" class=\"dataframe\">\n",
       "  <thead>\n",
       "    <tr style=\"text-align: right;\">\n",
       "      <th></th>\n",
       "      <th>event</th>\n",
       "      <th>film_datetime</th>\n",
       "    </tr>\n",
       "  </thead>\n",
       "  <tbody>\n",
       "    <tr>\n",
       "      <th>2394</th>\n",
       "      <td>TEDNYC</td>\n",
       "      <td>2017-01-26</td>\n",
       "    </tr>\n",
       "    <tr>\n",
       "      <th>147</th>\n",
       "      <td>TED2003</td>\n",
       "      <td>2003-02-02</td>\n",
       "    </tr>\n",
       "    <tr>\n",
       "      <th>2384</th>\n",
       "      <td>TEDNYC</td>\n",
       "      <td>2017-01-26</td>\n",
       "    </tr>\n",
       "    <tr>\n",
       "      <th>585</th>\n",
       "      <td>TEDxTC</td>\n",
       "      <td>2009-09-02</td>\n",
       "    </tr>\n",
       "    <tr>\n",
       "      <th>1300</th>\n",
       "      <td>TEDxBoston 2012</td>\n",
       "      <td>2012-06-22</td>\n",
       "    </tr>\n",
       "  </tbody>\n",
       "</table>\n",
       "</div>"
      ],
      "text/plain": [
       "                event film_datetime\n",
       "2394           TEDNYC    2017-01-26\n",
       "147           TED2003    2003-02-02\n",
       "2384           TEDNYC    2017-01-26\n",
       "585            TEDxTC    2009-09-02\n",
       "1300  TEDxBoston 2012    2012-06-22"
      ]
     },
     "execution_count": 11,
     "metadata": {},
     "output_type": "execute_result"
    }
   ],
   "source": [
    "ted.loc[:,['event','film_datetime']].sample(5)"
   ]
  },
  {
   "cell_type": "code",
   "execution_count": 76,
   "id": "7d40858a",
   "metadata": {},
   "outputs": [
    {
     "data": {
      "text/plain": [
       "comments                       int64\n",
       "description                   object\n",
       "duration                       int64\n",
       "event                         object\n",
       "film_date                      int64\n",
       "languages                      int64\n",
       "main_speaker                  object\n",
       "name                          object\n",
       "num_speaker                    int64\n",
       "published_date                 int64\n",
       "ratings                       object\n",
       "related_talks                 object\n",
       "speaker_occupation            object\n",
       "tags                          object\n",
       "title                         object\n",
       "url                           object\n",
       "views                          int64\n",
       "cmnts_per_view               float64\n",
       "views_per_cmts               float64\n",
       "film_datetime         datetime64[ns]\n",
       "dtype: object"
      ]
     },
     "execution_count": 76,
     "metadata": {},
     "output_type": "execute_result"
    }
   ],
   "source": [
    "ted.dtypes"
   ]
  },
  {
   "cell_type": "code",
   "execution_count": 12,
   "id": "5a86f556",
   "metadata": {},
   "outputs": [
    {
     "data": {
      "text/plain": [
       "'2006'"
      ]
     },
     "execution_count": 12,
     "metadata": {},
     "output_type": "execute_result"
    }
   ],
   "source": [
    "str(ted.film_datetime[0]).split('-')[0]"
   ]
  },
  {
   "cell_type": "code",
   "execution_count": 13,
   "id": "4efe332b",
   "metadata": {},
   "outputs": [
    {
     "data": {
      "text/plain": [
       "0    2006\n",
       "1    2006\n",
       "2    2006\n",
       "Name: film_datetime, dtype: int64"
      ]
     },
     "execution_count": 13,
     "metadata": {},
     "output_type": "execute_result"
    }
   ],
   "source": [
    "ted.film_datetime.dt.year.head(3)"
   ]
  },
  {
   "cell_type": "code",
   "execution_count": 95,
   "id": "1650ca44",
   "metadata": {},
   "outputs": [
    {
     "data": {
      "text/plain": [
       "0    5\n",
       "1    5\n",
       "2    4\n",
       "Name: film_datetime, dtype: int64"
      ]
     },
     "execution_count": 95,
     "metadata": {},
     "output_type": "execute_result"
    }
   ],
   "source": [
    "ted.film_datetime.dt.day_of_week.head(3)"
   ]
  },
  {
   "cell_type": "code",
   "execution_count": 94,
   "id": "9e6ba516",
   "metadata": {},
   "outputs": [
    {
     "data": {
      "text/plain": [
       "0    5\n",
       "1    5\n",
       "2    4\n",
       "Name: film_datetime, dtype: int64"
      ]
     },
     "execution_count": 94,
     "metadata": {},
     "output_type": "execute_result"
    }
   ],
   "source": [
    "ted.film_datetime.dt.weekday.head(3)"
   ]
  },
  {
   "cell_type": "code",
   "execution_count": 102,
   "id": "a1c9f919",
   "metadata": {},
   "outputs": [
    {
     "data": {
      "text/plain": [
       "1564            ted2013\n",
       "2303       tedxmontreal\n",
       "981      tedglobal 2011\n",
       "603             tedxsmu\n",
       "2029    tedgloballondon\n",
       "Name: event, dtype: object"
      ]
     },
     "execution_count": 102,
     "metadata": {},
     "output_type": "execute_result"
    }
   ],
   "source": [
    "ted.event.str.lower().sample(5)"
   ]
  },
  {
   "cell_type": "code",
   "execution_count": 105,
   "id": "254e51f2",
   "metadata": {
    "scrolled": true
   },
   "outputs": [
    {
     "data": {
      "text/plain": [
       "2013    270\n",
       "2011    270\n",
       "2010    267\n",
       "2012    267\n",
       "2016    246\n",
       "2015    239\n",
       "2014    237\n",
       "2009    232\n",
       "2007    114\n",
       "2017     98\n",
       "2008     84\n",
       "2005     66\n",
       "2006     50\n",
       "2004     33\n",
       "2003     33\n",
       "2002     27\n",
       "1998      6\n",
       "2001      5\n",
       "1983      1\n",
       "1972      1\n",
       "1990      1\n",
       "1994      1\n",
       "1984      1\n",
       "1991      1\n",
       "Name: film_datetime, dtype: int64"
      ]
     },
     "execution_count": 105,
     "metadata": {},
     "output_type": "execute_result"
    }
   ],
   "source": [
    "ted.film_datetime.dt.year.value_counts()"
   ]
  },
  {
   "cell_type": "code",
   "execution_count": 117,
   "id": "9cdf8d5f",
   "metadata": {},
   "outputs": [
    {
     "data": {
      "text/plain": [
       "1972      1\n",
       "1983      1\n",
       "1984      1\n",
       "1990      1\n",
       "1991      1\n",
       "1994      1\n",
       "1998      6\n",
       "2001      5\n",
       "2002     27\n",
       "2003     33\n",
       "2004     33\n",
       "2005     66\n",
       "2006     50\n",
       "2007    114\n",
       "2008     84\n",
       "2009    232\n",
       "2010    267\n",
       "2011    270\n",
       "2012    267\n",
       "2013    270\n",
       "2014    237\n",
       "2015    239\n",
       "2016    246\n",
       "2017     98\n",
       "Name: film_datetime, dtype: int64"
      ]
     },
     "execution_count": 117,
     "metadata": {},
     "output_type": "execute_result"
    }
   ],
   "source": [
    "ted.film_datetime.dt.year.value_counts().sort_index()"
   ]
  },
  {
   "cell_type": "code",
   "execution_count": 116,
   "id": "4de925c1",
   "metadata": {
    "scrolled": true
   },
   "outputs": [
    {
     "data": {
      "text/plain": [
       "<AxesSubplot:>"
      ]
     },
     "execution_count": 116,
     "metadata": {},
     "output_type": "execute_result"
    },
    {
     "data": {
      "image/png": "[encoded data removed]",
      "text/plain": [
       "<Figure size 432x288 with 1 Axes>"
      ]
     },
     "metadata": {
      "needs_background": "light"
     },
     "output_type": "display_data"
    }
   ],
   "source": [
    "ted.film_datetime.dt.year.value_counts().sort_index().plot()"
   ]
  },
  {
   "cell_type": "code",
   "execution_count": 118,
   "id": "7b997e1f",
   "metadata": {},
   "outputs": [
    {
     "data": {
      "text/html": [
       "<div>\n",
       "<style scoped>\n",
       "    .dataframe tbody tr th:only-of-type {\n",
       "        vertical-align: middle;\n",
       "    }\n",
       "\n",
       "    .dataframe tbody tr th {\n",
       "        vertical-align: top;\n",
       "    }\n",
       "\n",
       "    .dataframe thead th {\n",
       "        text-align: right;\n",
       "    }\n",
       "</style>\n",
       "<table border=\"1\" class=\"dataframe\">\n",
       "  <thead>\n",
       "    <tr style=\"text-align: right;\">\n",
       "      <th></th>\n",
       "      <th>comments</th>\n",
       "      <th>description</th>\n",
       "      <th>duration</th>\n",
       "      <th>event</th>\n",
       "      <th>film_date</th>\n",
       "      <th>languages</th>\n",
       "      <th>main_speaker</th>\n",
       "      <th>name</th>\n",
       "      <th>num_speaker</th>\n",
       "      <th>published_date</th>\n",
       "      <th>ratings</th>\n",
       "      <th>related_talks</th>\n",
       "      <th>speaker_occupation</th>\n",
       "      <th>tags</th>\n",
       "      <th>title</th>\n",
       "      <th>url</th>\n",
       "      <th>views</th>\n",
       "      <th>cmnts_per_view</th>\n",
       "      <th>views_per_cmts</th>\n",
       "      <th>film_datetime</th>\n",
       "    </tr>\n",
       "  </thead>\n",
       "  <tbody>\n",
       "    <tr>\n",
       "      <th>1878</th>\n",
       "      <td>42</td>\n",
       "      <td>“In my lifetime, I have never lived one day of...</td>\n",
       "      <td>862</td>\n",
       "      <td>TEDGlobal 2014</td>\n",
       "      <td>1412640000</td>\n",
       "      <td>24</td>\n",
       "      <td>Jose Miguel Sokoloff</td>\n",
       "      <td>Jose Miguel Sokoloff: How Christmas lights hel...</td>\n",
       "      <td>1</td>\n",
       "      <td>1418056117</td>\n",
       "      <td>[{'id': 1, 'name': 'Beautiful', 'count': 211},...</td>\n",
       "      <td>[{'id': 1586, 'hero': 'https://pe.tedcdn.com/i...</td>\n",
       "      <td>Anti-guerrilla creative</td>\n",
       "      <td>['advertising', 'creativity', 'war']</td>\n",
       "      <td>How Christmas lights helped guerrillas put dow...</td>\n",
       "      <td>https://www.ted.com/talks/jose_miguel_sokoloff...</td>\n",
       "      <td>755399</td>\n",
       "      <td>0.000056</td>\n",
       "      <td>17985.690476</td>\n",
       "      <td>2014-10-07</td>\n",
       "    </tr>\n",
       "  </tbody>\n",
       "</table>\n",
       "</div>"
      ],
      "text/plain": [
       "      comments                                        description  duration  \\\n",
       "1878        42  “In my lifetime, I have never lived one day of...       862   \n",
       "\n",
       "               event   film_date  languages          main_speaker  \\\n",
       "1878  TEDGlobal 2014  1412640000         24  Jose Miguel Sokoloff   \n",
       "\n",
       "                                                   name  num_speaker  \\\n",
       "1878  Jose Miguel Sokoloff: How Christmas lights hel...            1   \n",
       "\n",
       "      published_date                                            ratings  \\\n",
       "1878      1418056117  [{'id': 1, 'name': 'Beautiful', 'count': 211},...   \n",
       "\n",
       "                                          related_talks  \\\n",
       "1878  [{'id': 1586, 'hero': 'https://pe.tedcdn.com/i...   \n",
       "\n",
       "           speaker_occupation                                  tags  \\\n",
       "1878  Anti-guerrilla creative  ['advertising', 'creativity', 'war']   \n",
       "\n",
       "                                                  title  \\\n",
       "1878  How Christmas lights helped guerrillas put dow...   \n",
       "\n",
       "                                                    url   views  \\\n",
       "1878  https://www.ted.com/talks/jose_miguel_sokoloff...  755399   \n",
       "\n",
       "      cmnts_per_view  views_per_cmts film_datetime  \n",
       "1878        0.000056    17985.690476    2014-10-07  "
      ]
     },
     "execution_count": 118,
     "metadata": {},
     "output_type": "execute_result"
    }
   ],
   "source": [
    "# 4. what were the \"best\" event in TED history to attend ?\n",
    "ted.sample()"
   ]
  },
  {
   "cell_type": "code",
   "execution_count": 120,
   "id": "1dae0007",
   "metadata": {},
   "outputs": [
    {
     "data": {
      "text/plain": [
       "26    152\n",
       "29    144\n",
       "28    138\n",
       "27    133\n",
       "30    130\n",
       "     ... \n",
       "65      1\n",
       "69      1\n",
       "64      1\n",
       "56      1\n",
       "60      1\n",
       "Name: languages, Length: 66, dtype: int64"
      ]
     },
     "execution_count": 120,
     "metadata": {},
     "output_type": "execute_result"
    }
   ],
   "source": [
    "ted.languages.value_counts()"
   ]
  },
  {
   "cell_type": "code",
   "execution_count": 128,
   "id": "05e0c6c5",
   "metadata": {},
   "outputs": [
    {
     "data": {
      "text/html": [
       "<div>\n",
       "<style scoped>\n",
       "    .dataframe tbody tr th:only-of-type {\n",
       "        vertical-align: middle;\n",
       "    }\n",
       "\n",
       "    .dataframe tbody tr th {\n",
       "        vertical-align: top;\n",
       "    }\n",
       "\n",
       "    .dataframe thead th {\n",
       "        text-align: right;\n",
       "    }\n",
       "</style>\n",
       "<table border=\"1\" class=\"dataframe\">\n",
       "  <thead>\n",
       "    <tr style=\"text-align: right;\">\n",
       "      <th></th>\n",
       "      <th>count</th>\n",
       "      <th>mean</th>\n",
       "    </tr>\n",
       "    <tr>\n",
       "      <th>event</th>\n",
       "      <th></th>\n",
       "      <th></th>\n",
       "    </tr>\n",
       "  </thead>\n",
       "  <tbody>\n",
       "    <tr>\n",
       "      <th>TEDxNorrkoping</th>\n",
       "      <td>1</td>\n",
       "      <td>6569493.0</td>\n",
       "    </tr>\n",
       "    <tr>\n",
       "      <th>TEDxCreativeCoast</th>\n",
       "      <td>1</td>\n",
       "      <td>8444981.0</td>\n",
       "    </tr>\n",
       "    <tr>\n",
       "      <th>TEDxBloomington</th>\n",
       "      <td>2</td>\n",
       "      <td>9484259.5</td>\n",
       "    </tr>\n",
       "    <tr>\n",
       "      <th>TEDxHouston</th>\n",
       "      <td>2</td>\n",
       "      <td>16140250.5</td>\n",
       "    </tr>\n",
       "    <tr>\n",
       "      <th>TEDxPuget Sound</th>\n",
       "      <td>1</td>\n",
       "      <td>34309432.0</td>\n",
       "    </tr>\n",
       "  </tbody>\n",
       "</table>\n",
       "</div>"
      ],
      "text/plain": [
       "                   count        mean\n",
       "event                               \n",
       "TEDxNorrkoping         1   6569493.0\n",
       "TEDxCreativeCoast      1   8444981.0\n",
       "TEDxBloomington        2   9484259.5\n",
       "TEDxHouston            2  16140250.5\n",
       "TEDxPuget Sound        1  34309432.0"
      ]
     },
     "execution_count": 128,
     "metadata": {},
     "output_type": "execute_result"
    }
   ],
   "source": [
    "ted.groupby('event').views.agg(['count','mean']).sort_values('mean').tail()"
   ]
  },
  {
   "cell_type": "code",
   "execution_count": 14,
   "id": "2532a5a7",
   "metadata": {},
   "outputs": [
    {
     "data": {
      "text/html": [
       "<div>\n",
       "<style scoped>\n",
       "    .dataframe tbody tr th:only-of-type {\n",
       "        vertical-align: middle;\n",
       "    }\n",
       "\n",
       "    .dataframe tbody tr th {\n",
       "        vertical-align: top;\n",
       "    }\n",
       "\n",
       "    .dataframe thead th {\n",
       "        text-align: right;\n",
       "    }\n",
       "</style>\n",
       "<table border=\"1\" class=\"dataframe\">\n",
       "  <thead>\n",
       "    <tr style=\"text-align: right;\">\n",
       "      <th></th>\n",
       "      <th>count</th>\n",
       "      <th>mean</th>\n",
       "      <th>sum</th>\n",
       "    </tr>\n",
       "    <tr>\n",
       "      <th>event</th>\n",
       "      <th></th>\n",
       "      <th></th>\n",
       "      <th></th>\n",
       "    </tr>\n",
       "  </thead>\n",
       "  <tbody>\n",
       "    <tr>\n",
       "      <th>TED2006</th>\n",
       "      <td>45</td>\n",
       "      <td>3.274345e+06</td>\n",
       "      <td>147345533</td>\n",
       "    </tr>\n",
       "    <tr>\n",
       "      <th>TED2015</th>\n",
       "      <td>75</td>\n",
       "      <td>2.011017e+06</td>\n",
       "      <td>150826305</td>\n",
       "    </tr>\n",
       "    <tr>\n",
       "      <th>TEDGlobal 2013</th>\n",
       "      <td>66</td>\n",
       "      <td>2.584163e+06</td>\n",
       "      <td>170554736</td>\n",
       "    </tr>\n",
       "    <tr>\n",
       "      <th>TED2014</th>\n",
       "      <td>84</td>\n",
       "      <td>2.072874e+06</td>\n",
       "      <td>174121423</td>\n",
       "    </tr>\n",
       "    <tr>\n",
       "      <th>TED2013</th>\n",
       "      <td>77</td>\n",
       "      <td>2.302700e+06</td>\n",
       "      <td>177307937</td>\n",
       "    </tr>\n",
       "  </tbody>\n",
       "</table>\n",
       "</div>"
      ],
      "text/plain": [
       "                count          mean        sum\n",
       "event                                         \n",
       "TED2006            45  3.274345e+06  147345533\n",
       "TED2015            75  2.011017e+06  150826305\n",
       "TEDGlobal 2013     66  2.584163e+06  170554736\n",
       "TED2014            84  2.072874e+06  174121423\n",
       "TED2013            77  2.302700e+06  177307937"
      ]
     },
     "execution_count": 14,
     "metadata": {},
     "output_type": "execute_result"
    }
   ],
   "source": [
    "ted.groupby('event').views.agg(['count','mean','sum']).sort_values('sum').tail()"
   ]
  },
  {
   "cell_type": "code",
   "execution_count": 17,
   "id": "a00ba103",
   "metadata": {},
   "outputs": [
    {
     "data": {
      "text/html": [
       "<div>\n",
       "<style scoped>\n",
       "    .dataframe tbody tr th:only-of-type {\n",
       "        vertical-align: middle;\n",
       "    }\n",
       "\n",
       "    .dataframe tbody tr th {\n",
       "        vertical-align: top;\n",
       "    }\n",
       "\n",
       "    .dataframe thead th {\n",
       "        text-align: right;\n",
       "    }\n",
       "</style>\n",
       "<table border=\"1\" class=\"dataframe\">\n",
       "  <thead>\n",
       "    <tr style=\"text-align: right;\">\n",
       "      <th></th>\n",
       "      <th>comments</th>\n",
       "      <th>description</th>\n",
       "      <th>duration</th>\n",
       "      <th>event</th>\n",
       "      <th>film_date</th>\n",
       "      <th>languages</th>\n",
       "      <th>main_speaker</th>\n",
       "      <th>name</th>\n",
       "      <th>num_speaker</th>\n",
       "      <th>published_date</th>\n",
       "      <th>ratings</th>\n",
       "      <th>related_talks</th>\n",
       "      <th>speaker_occupation</th>\n",
       "      <th>tags</th>\n",
       "      <th>title</th>\n",
       "      <th>url</th>\n",
       "      <th>views</th>\n",
       "      <th>cmnts_per_view</th>\n",
       "      <th>views_per_cmts</th>\n",
       "      <th>film_datetime</th>\n",
       "    </tr>\n",
       "  </thead>\n",
       "  <tbody>\n",
       "    <tr>\n",
       "      <th>1535</th>\n",
       "      <td>109</td>\n",
       "      <td>The gastric brooding frog lays its eggs just l...</td>\n",
       "      <td>1056</td>\n",
       "      <td>TEDxDeExtinction</td>\n",
       "      <td>1363305600</td>\n",
       "      <td>21</td>\n",
       "      <td>Michael Archer</td>\n",
       "      <td>Michael Archer: How we'll resurrect the gastri...</td>\n",
       "      <td>1</td>\n",
       "      <td>1372345259</td>\n",
       "      <td>[{'id': 22, 'name': 'Fascinating', 'count': 10...</td>\n",
       "      <td>[{'id': 1751, 'hero': 'https://pe.tedcdn.com/i...</td>\n",
       "      <td>Paleontologist</td>\n",
       "      <td>['Bioethics', 'DNA', 'TEDx', 'activism', 'anim...</td>\n",
       "      <td>How we'll resurrect the gastric brooding frog,...</td>\n",
       "      <td>https://www.ted.com/talks/michael_archer_how_w...</td>\n",
       "      <td>554360</td>\n",
       "      <td>0.000197</td>\n",
       "      <td>5085.871560</td>\n",
       "      <td>2013-03-15</td>\n",
       "    </tr>\n",
       "    <tr>\n",
       "      <th>217</th>\n",
       "      <td>92</td>\n",
       "      <td>Yochai Benkler explains how collaborative proj...</td>\n",
       "      <td>1072</td>\n",
       "      <td>TEDGlobal 2005</td>\n",
       "      <td>1120694400</td>\n",
       "      <td>24</td>\n",
       "      <td>Yochai Benkler</td>\n",
       "      <td>Yochai Benkler: The new open-source economics</td>\n",
       "      <td>1</td>\n",
       "      <td>1208309400</td>\n",
       "      <td>[{'id': 24, 'name': 'Persuasive', 'count': 285...</td>\n",
       "      <td>[{'id': 63, 'hero': 'https://pe.tedcdn.com/ima...</td>\n",
       "      <td>Legal expert</td>\n",
       "      <td>['Google', 'business', 'collaboration', 'econo...</td>\n",
       "      <td>The new open-source economics</td>\n",
       "      <td>https://www.ted.com/talks/yochai_benkler_on_th...</td>\n",
       "      <td>753974</td>\n",
       "      <td>0.000122</td>\n",
       "      <td>8195.369565</td>\n",
       "      <td>2005-07-07</td>\n",
       "    </tr>\n",
       "  </tbody>\n",
       "</table>\n",
       "</div>"
      ],
      "text/plain": [
       "      comments                                        description  duration  \\\n",
       "1535       109  The gastric brooding frog lays its eggs just l...      1056   \n",
       "217         92  Yochai Benkler explains how collaborative proj...      1072   \n",
       "\n",
       "                 event   film_date  languages    main_speaker  \\\n",
       "1535  TEDxDeExtinction  1363305600         21  Michael Archer   \n",
       "217     TEDGlobal 2005  1120694400         24  Yochai Benkler   \n",
       "\n",
       "                                                   name  num_speaker  \\\n",
       "1535  Michael Archer: How we'll resurrect the gastri...            1   \n",
       "217       Yochai Benkler: The new open-source economics            1   \n",
       "\n",
       "      published_date                                            ratings  \\\n",
       "1535      1372345259  [{'id': 22, 'name': 'Fascinating', 'count': 10...   \n",
       "217       1208309400  [{'id': 24, 'name': 'Persuasive', 'count': 285...   \n",
       "\n",
       "                                          related_talks speaker_occupation  \\\n",
       "1535  [{'id': 1751, 'hero': 'https://pe.tedcdn.com/i...     Paleontologist   \n",
       "217   [{'id': 63, 'hero': 'https://pe.tedcdn.com/ima...       Legal expert   \n",
       "\n",
       "                                                   tags  \\\n",
       "1535  ['Bioethics', 'DNA', 'TEDx', 'activism', 'anim...   \n",
       "217   ['Google', 'business', 'collaboration', 'econo...   \n",
       "\n",
       "                                                  title  \\\n",
       "1535  How we'll resurrect the gastric brooding frog,...   \n",
       "217                       The new open-source economics   \n",
       "\n",
       "                                                    url   views  \\\n",
       "1535  https://www.ted.com/talks/michael_archer_how_w...  554360   \n",
       "217   https://www.ted.com/talks/yochai_benkler_on_th...  753974   \n",
       "\n",
       "      cmnts_per_view  views_per_cmts film_datetime  \n",
       "1535        0.000197     5085.871560    2013-03-15  \n",
       "217         0.000122     8195.369565    2005-07-07  "
      ]
     },
     "execution_count": 17,
     "metadata": {},
     "output_type": "execute_result"
    }
   ],
   "source": [
    "# 5. Unpack the Ratings Data\n",
    "ted.sample(2)"
   ]
  },
  {
   "cell_type": "code",
   "execution_count": 19,
   "id": "3f489fb8",
   "metadata": {},
   "outputs": [
    {
     "data": {
      "text/plain": [
       "598     [{'id': 23, 'name': 'Jaw-dropping', 'count': 4...\n",
       "2387    [{'id': 8, 'name': 'Informative', 'count': 583...\n",
       "Name: ratings, dtype: object"
      ]
     },
     "execution_count": 19,
     "metadata": {},
     "output_type": "execute_result"
    }
   ],
   "source": [
    "ted.ratings.sample(2)"
   ]
  },
  {
   "cell_type": "code",
   "execution_count": 21,
   "id": "ecc09dec",
   "metadata": {},
   "outputs": [
    {
     "data": {
      "text/plain": [
       "\"[{'id': 7, 'name': 'Funny', 'count': 19645}, {'id': 1, 'name': 'Beautiful', 'count': 4573}, {'id': 9, 'name': 'Ingenious', 'count': 6073}, {'id': 3, 'name': 'Courageous', 'count': 3253}, {'id': 11, 'name': 'Longwinded', 'count': 387}, {'id': 2, 'name': 'Confusing', 'count': 242}, {'id': 8, 'name': 'Informative', 'count': 7346}, {'id': 22, 'name': 'Fascinating', 'count': 10581}, {'id': 21, 'name': 'Unconvincing', 'count': 300}, {'id': 24, 'name': 'Persuasive', 'count': 10704}, {'id': 23, 'name': 'Jaw-dropping', 'count': 4439}, {'id': 25, 'name': 'OK', 'count': 1174}, {'id': 26, 'name': 'Obnoxious', 'count': 209}, {'id': 10, 'name': 'Inspiring', 'count': 24924}]\""
      ]
     },
     "execution_count": 21,
     "metadata": {},
     "output_type": "execute_result"
    }
   ],
   "source": [
    "ted.loc[0,'ratings']"
   ]
  },
  {
   "cell_type": "code",
   "execution_count": 25,
   "id": "b287a851",
   "metadata": {},
   "outputs": [
    {
     "data": {
      "text/plain": [
       "\"[{'id': 7, 'name': 'Funny', 'count': 19645}, {'id': 1, 'name': 'Beautiful', 'count': 4573}, {'id': 9, 'name': 'Ingenious', 'count': 6073}, {'id': 3, 'name': 'Courageous', 'count': 3253}, {'id': 11, 'name': 'Longwinded', 'count': 387}, {'id': 2, 'name': 'Confusing', 'count': 242}, {'id': 8, 'name': 'Informative', 'count': 7346}, {'id': 22, 'name': 'Fascinating', 'count': 10581}, {'id': 21, 'name': 'Unconvincing', 'count': 300}, {'id': 24, 'name': 'Persuasive', 'count': 10704}, {'id': 23, 'name': 'Jaw-dropping', 'count': 4439}, {'id': 25, 'name': 'OK', 'count': 1174}, {'id': 26, 'name': 'Obnoxious', 'count': 209}, {'id': 10, 'name': 'Inspiring', 'count': 24924}]\""
      ]
     },
     "execution_count": 25,
     "metadata": {},
     "output_type": "execute_result"
    }
   ],
   "source": [
    "ted.ratings[0]"
   ]
  },
  {
   "cell_type": "code",
   "execution_count": 26,
   "id": "8e423ee1",
   "metadata": {},
   "outputs": [],
   "source": [
    "import ast"
   ]
  },
  {
   "cell_type": "code",
   "execution_count": 29,
   "id": "5c2f0939",
   "metadata": {},
   "outputs": [
    {
     "data": {
      "text/plain": [
       "[1, 2, 3]"
      ]
     },
     "execution_count": 29,
     "metadata": {},
     "output_type": "execute_result"
    }
   ],
   "source": [
    "ast.literal_eval('[1,2,3]')"
   ]
  },
  {
   "cell_type": "code",
   "execution_count": 30,
   "id": "6fb25ad3",
   "metadata": {},
   "outputs": [
    {
     "data": {
      "text/plain": [
       "[{'id': 7, 'name': 'Funny', 'count': 19645},\n",
       " {'id': 1, 'name': 'Beautiful', 'count': 4573},\n",
       " {'id': 9, 'name': 'Ingenious', 'count': 6073},\n",
       " {'id': 3, 'name': 'Courageous', 'count': 3253},\n",
       " {'id': 11, 'name': 'Longwinded', 'count': 387},\n",
       " {'id': 2, 'name': 'Confusing', 'count': 242},\n",
       " {'id': 8, 'name': 'Informative', 'count': 7346},\n",
       " {'id': 22, 'name': 'Fascinating', 'count': 10581},\n",
       " {'id': 21, 'name': 'Unconvincing', 'count': 300},\n",
       " {'id': 24, 'name': 'Persuasive', 'count': 10704},\n",
       " {'id': 23, 'name': 'Jaw-dropping', 'count': 4439},\n",
       " {'id': 25, 'name': 'OK', 'count': 1174},\n",
       " {'id': 26, 'name': 'Obnoxious', 'count': 209},\n",
       " {'id': 10, 'name': 'Inspiring', 'count': 24924}]"
      ]
     },
     "execution_count": 30,
     "metadata": {},
     "output_type": "execute_result"
    }
   ],
   "source": [
    "ast.literal_eval(ted.ratings[0])"
   ]
  },
  {
   "cell_type": "code",
   "execution_count": 31,
   "id": "36698847",
   "metadata": {},
   "outputs": [],
   "source": [
    "def str_to_list(ratings_str):\n",
    "    return ast.literal_eval(ratings_str)"
   ]
  },
  {
   "cell_type": "code",
   "execution_count": 32,
   "id": "7962493a",
   "metadata": {},
   "outputs": [
    {
     "data": {
      "text/plain": [
       "[{'id': 7, 'name': 'Funny', 'count': 19645},\n",
       " {'id': 1, 'name': 'Beautiful', 'count': 4573},\n",
       " {'id': 9, 'name': 'Ingenious', 'count': 6073},\n",
       " {'id': 3, 'name': 'Courageous', 'count': 3253},\n",
       " {'id': 11, 'name': 'Longwinded', 'count': 387},\n",
       " {'id': 2, 'name': 'Confusing', 'count': 242},\n",
       " {'id': 8, 'name': 'Informative', 'count': 7346},\n",
       " {'id': 22, 'name': 'Fascinating', 'count': 10581},\n",
       " {'id': 21, 'name': 'Unconvincing', 'count': 300},\n",
       " {'id': 24, 'name': 'Persuasive', 'count': 10704},\n",
       " {'id': 23, 'name': 'Jaw-dropping', 'count': 4439},\n",
       " {'id': 25, 'name': 'OK', 'count': 1174},\n",
       " {'id': 26, 'name': 'Obnoxious', 'count': 209},\n",
       " {'id': 10, 'name': 'Inspiring', 'count': 24924}]"
      ]
     },
     "execution_count": 32,
     "metadata": {},
     "output_type": "execute_result"
    }
   ],
   "source": [
    "str_to_list(ted.ratings[0])"
   ]
  },
  {
   "cell_type": "code",
   "execution_count": 33,
   "id": "4b853885",
   "metadata": {},
   "outputs": [
    {
     "data": {
      "text/plain": [
       "55      [{'id': 7, 'name': 'Funny', 'count': 342}, {'i...\n",
       "1252    [{'id': 8, 'name': 'Informative', 'count': 971...\n",
       "1272    [{'id': 7, 'name': 'Funny', 'count': 317}, {'i...\n",
       "Name: ratings, dtype: object"
      ]
     },
     "execution_count": 33,
     "metadata": {},
     "output_type": "execute_result"
    }
   ],
   "source": [
    "ted.ratings.apply(str_to_list).sample(3)"
   ]
  },
  {
   "cell_type": "code",
   "execution_count": 34,
   "id": "ed8b9b5e",
   "metadata": {},
   "outputs": [
    {
     "data": {
      "text/plain": [
       "0       [{'id': 7, 'name': 'Funny', 'count': 19645}, {...\n",
       "1       [{'id': 7, 'name': 'Funny', 'count': 544}, {'i...\n",
       "2       [{'id': 7, 'name': 'Funny', 'count': 964}, {'i...\n",
       "3       [{'id': 3, 'name': 'Courageous', 'count': 760}...\n",
       "4       [{'id': 9, 'name': 'Ingenious', 'count': 3202}...\n",
       "                              ...                        \n",
       "2545    [{'id': 3, 'name': 'Courageous', 'count': 24},...\n",
       "2546    [{'id': 22, 'name': 'Fascinating', 'count': 32...\n",
       "2547    [{'id': 1, 'name': 'Beautiful', 'count': 14}, ...\n",
       "2548    [{'id': 11, 'name': 'Longwinded', 'count': 3},...\n",
       "2549    [{'id': 21, 'name': 'Unconvincing', 'count': 2...\n",
       "Name: ratings, Length: 2550, dtype: object"
      ]
     },
     "execution_count": 34,
     "metadata": {},
     "output_type": "execute_result"
    }
   ],
   "source": [
    "ted.ratings.apply(ast.literal_eval)"
   ]
  },
  {
   "cell_type": "code",
   "execution_count": 36,
   "id": "6b1e65f5",
   "metadata": {},
   "outputs": [],
   "source": [
    "ted['ratings_list'] = ted.ratings.apply(lambda x : ast.literal_eval(x))"
   ]
  },
  {
   "cell_type": "code",
   "execution_count": 39,
   "id": "152d35f1",
   "metadata": {},
   "outputs": [
    {
     "data": {
      "text/plain": [
       "0       [{'id': 7, 'name': 'Funny', 'count': 19645}, {...\n",
       "1       [{'id': 7, 'name': 'Funny', 'count': 544}, {'i...\n",
       "2       [{'id': 7, 'name': 'Funny', 'count': 964}, {'i...\n",
       "3       [{'id': 3, 'name': 'Courageous', 'count': 760}...\n",
       "4       [{'id': 9, 'name': 'Ingenious', 'count': 3202}...\n",
       "                              ...                        \n",
       "2545    [{'id': 3, 'name': 'Courageous', 'count': 24},...\n",
       "2546    [{'id': 22, 'name': 'Fascinating', 'count': 32...\n",
       "2547    [{'id': 1, 'name': 'Beautiful', 'count': 14}, ...\n",
       "2548    [{'id': 11, 'name': 'Longwinded', 'count': 3},...\n",
       "2549    [{'id': 21, 'name': 'Unconvincing', 'count': 2...\n",
       "Name: ratings_list, Length: 2550, dtype: object"
      ]
     },
     "execution_count": 39,
     "metadata": {},
     "output_type": "execute_result"
    }
   ],
   "source": [
    "ted.ratings_list"
   ]
  },
  {
   "cell_type": "code",
   "execution_count": 40,
   "id": "737e35a1",
   "metadata": {
    "scrolled": true
   },
   "outputs": [
    {
     "data": {
      "text/html": [
       "<div>\n",
       "<style scoped>\n",
       "    .dataframe tbody tr th:only-of-type {\n",
       "        vertical-align: middle;\n",
       "    }\n",
       "\n",
       "    .dataframe tbody tr th {\n",
       "        vertical-align: top;\n",
       "    }\n",
       "\n",
       "    .dataframe thead th {\n",
       "        text-align: right;\n",
       "    }\n",
       "</style>\n",
       "<table border=\"1\" class=\"dataframe\">\n",
       "  <thead>\n",
       "    <tr style=\"text-align: right;\">\n",
       "      <th></th>\n",
       "      <th>comments</th>\n",
       "      <th>description</th>\n",
       "      <th>duration</th>\n",
       "      <th>event</th>\n",
       "      <th>film_date</th>\n",
       "      <th>languages</th>\n",
       "      <th>main_speaker</th>\n",
       "      <th>name</th>\n",
       "      <th>num_speaker</th>\n",
       "      <th>published_date</th>\n",
       "      <th>...</th>\n",
       "      <th>related_talks</th>\n",
       "      <th>speaker_occupation</th>\n",
       "      <th>tags</th>\n",
       "      <th>title</th>\n",
       "      <th>url</th>\n",
       "      <th>views</th>\n",
       "      <th>cmnts_per_view</th>\n",
       "      <th>views_per_cmts</th>\n",
       "      <th>film_datetime</th>\n",
       "      <th>ratings_list</th>\n",
       "    </tr>\n",
       "  </thead>\n",
       "  <tbody>\n",
       "    <tr>\n",
       "      <th>2054</th>\n",
       "      <td>162</td>\n",
       "      <td>When someone asks you where you're from … do y...</td>\n",
       "      <td>991</td>\n",
       "      <td>TEDGlobal 2014</td>\n",
       "      <td>1412640000</td>\n",
       "      <td>28</td>\n",
       "      <td>Taiye Selasi</td>\n",
       "      <td>Taiye Selasi: Don't ask where I'm from, ask wh...</td>\n",
       "      <td>1</td>\n",
       "      <td>1443539368</td>\n",
       "      <td>...</td>\n",
       "      <td>[{'id': 652, 'hero': 'https://pe.tedcdn.com/im...</td>\n",
       "      <td>Author</td>\n",
       "      <td>['culture', 'humanity', 'identity', 'self', 'w...</td>\n",
       "      <td>Don't ask where I'm from, ask where I'm a local</td>\n",
       "      <td>https://www.ted.com/talks/taiye_selasi_don_t_a...</td>\n",
       "      <td>2141928</td>\n",
       "      <td>0.000076</td>\n",
       "      <td>13221.777778</td>\n",
       "      <td>2014-10-07</td>\n",
       "      <td>[{'id': 10, 'name': 'Inspiring', 'count': 1128...</td>\n",
       "    </tr>\n",
       "  </tbody>\n",
       "</table>\n",
       "<p>1 rows × 21 columns</p>\n",
       "</div>"
      ],
      "text/plain": [
       "      comments                                        description  duration  \\\n",
       "2054       162  When someone asks you where you're from … do y...       991   \n",
       "\n",
       "               event   film_date  languages  main_speaker  \\\n",
       "2054  TEDGlobal 2014  1412640000         28  Taiye Selasi   \n",
       "\n",
       "                                                   name  num_speaker  \\\n",
       "2054  Taiye Selasi: Don't ask where I'm from, ask wh...            1   \n",
       "\n",
       "      published_date  ...                                      related_talks  \\\n",
       "2054      1443539368  ...  [{'id': 652, 'hero': 'https://pe.tedcdn.com/im...   \n",
       "\n",
       "     speaker_occupation                                               tags  \\\n",
       "2054             Author  ['culture', 'humanity', 'identity', 'self', 'w...   \n",
       "\n",
       "                                                title  \\\n",
       "2054  Don't ask where I'm from, ask where I'm a local   \n",
       "\n",
       "                                                    url    views  \\\n",
       "2054  https://www.ted.com/talks/taiye_selasi_don_t_a...  2141928   \n",
       "\n",
       "      cmnts_per_view  views_per_cmts  film_datetime  \\\n",
       "2054        0.000076    13221.777778     2014-10-07   \n",
       "\n",
       "                                           ratings_list  \n",
       "2054  [{'id': 10, 'name': 'Inspiring', 'count': 1128...  \n",
       "\n",
       "[1 rows x 21 columns]"
      ]
     },
     "execution_count": 40,
     "metadata": {},
     "output_type": "execute_result"
    }
   ],
   "source": [
    "# 6. count the total number ratings recieved by each talk \n",
    "#      a=>  new column named 'num_ratings'\n",
    "ted.sample()"
   ]
  },
  {
   "cell_type": "code",
   "execution_count": 42,
   "id": "4814d87b",
   "metadata": {
    "scrolled": true
   },
   "outputs": [
    {
     "data": {
      "text/plain": [
       "[{'id': 7, 'name': 'Funny', 'count': 19645},\n",
       " {'id': 1, 'name': 'Beautiful', 'count': 4573},\n",
       " {'id': 9, 'name': 'Ingenious', 'count': 6073},\n",
       " {'id': 3, 'name': 'Courageous', 'count': 3253},\n",
       " {'id': 11, 'name': 'Longwinded', 'count': 387},\n",
       " {'id': 2, 'name': 'Confusing', 'count': 242},\n",
       " {'id': 8, 'name': 'Informative', 'count': 7346},\n",
       " {'id': 22, 'name': 'Fascinating', 'count': 10581},\n",
       " {'id': 21, 'name': 'Unconvincing', 'count': 300},\n",
       " {'id': 24, 'name': 'Persuasive', 'count': 10704},\n",
       " {'id': 23, 'name': 'Jaw-dropping', 'count': 4439},\n",
       " {'id': 25, 'name': 'OK', 'count': 1174},\n",
       " {'id': 26, 'name': 'Obnoxious', 'count': 209},\n",
       " {'id': 10, 'name': 'Inspiring', 'count': 24924}]"
      ]
     },
     "execution_count": 42,
     "metadata": {},
     "output_type": "execute_result"
    }
   ],
   "source": [
    "ted.ratings_list[0]"
   ]
  },
  {
   "cell_type": "code",
   "execution_count": 47,
   "id": "060e12c0",
   "metadata": {},
   "outputs": [],
   "source": [
    "def get_num_ratings(list_of_dicts):\n",
    "    num = 0\n",
    "    for x in list_of_dicts:\n",
    "        num = num+x['count']\n",
    "    return num"
   ]
  },
  {
   "cell_type": "code",
   "execution_count": 48,
   "id": "1c9b6e46",
   "metadata": {},
   "outputs": [
    {
     "data": {
      "text/plain": [
       "93850"
      ]
     },
     "execution_count": 48,
     "metadata": {},
     "output_type": "execute_result"
    }
   ],
   "source": [
    "get_num_ratings(ted.ratings_list[0])"
   ]
  },
  {
   "cell_type": "code",
   "execution_count": 50,
   "id": "cd6d6287",
   "metadata": {},
   "outputs": [],
   "source": [
    "ted['num_ratings']=ted.ratings_list.apply(get_num_ratings)"
   ]
  },
  {
   "cell_type": "code",
   "execution_count": 51,
   "id": "a9a21a6f",
   "metadata": {},
   "outputs": [
    {
     "data": {
      "text/plain": [
       "count     2550.000000\n",
       "mean      2436.408235\n",
       "std       4226.795631\n",
       "min         68.000000\n",
       "25%        870.750000\n",
       "50%       1452.500000\n",
       "75%       2506.750000\n",
       "max      93850.000000\n",
       "Name: num_ratings, dtype: float64"
      ]
     },
     "execution_count": 51,
     "metadata": {},
     "output_type": "execute_result"
    }
   ],
   "source": [
    "ted.num_ratings.describe()"
   ]
  },
  {
   "cell_type": "code",
   "execution_count": null,
   "id": "c9e11885",
   "metadata": {},
   "outputs": [],
   "source": [
    "# 8. which occupations deliver the funniest TED talks on average ?\n",
    "\n"
   ]
  },
  {
   "cell_type": "code",
   "execution_count": 52,
   "id": "eff54d5b",
   "metadata": {},
   "outputs": [
    {
     "data": {
      "text/plain": [
       "0    [{'id': 7, 'name': 'Funny', 'count': 19645}, {...\n",
       "1    [{'id': 7, 'name': 'Funny', 'count': 544}, {'i...\n",
       "2    [{'id': 7, 'name': 'Funny', 'count': 964}, {'i...\n",
       "Name: ratings_list, dtype: object"
      ]
     },
     "execution_count": 52,
     "metadata": {},
     "output_type": "execute_result"
    }
   ],
   "source": [
    "# Step 1 : count the number of funny ratings\n",
    "ted.ratings_list.head(3)"
   ]
  },
  {
   "cell_type": "code",
   "execution_count": 54,
   "id": "bd61de55",
   "metadata": {},
   "outputs": [
    {
     "data": {
      "text/plain": [
       "True    2550\n",
       "Name: ratings, dtype: int64"
      ]
     },
     "execution_count": 54,
     "metadata": {},
     "output_type": "execute_result"
    }
   ],
   "source": [
    "ted.ratings.str.contains(\"Funny\").value_counts()"
   ]
  },
  {
   "cell_type": "code",
   "execution_count": 55,
   "id": "ae886c1d",
   "metadata": {},
   "outputs": [],
   "source": [
    "def get_funny_ratings(list_of_dicts):\n",
    "    for x in list_of_dicts:\n",
    "        if x['name']=='Funny':\n",
    "            return x['count']"
   ]
  },
  {
   "cell_type": "code",
   "execution_count": 57,
   "id": "a288b179",
   "metadata": {},
   "outputs": [],
   "source": [
    "ted['funny_ratings']= ted.ratings_list.apply(get_funny_ratings)"
   ]
  },
  {
   "cell_type": "code",
   "execution_count": 58,
   "id": "b13828ec",
   "metadata": {},
   "outputs": [
    {
     "data": {
      "text/plain": [
       "0       19645\n",
       "1         544\n",
       "2         964\n",
       "3          59\n",
       "4        1390\n",
       "        ...  \n",
       "2545        1\n",
       "2546       20\n",
       "2547        1\n",
       "2548       63\n",
       "2549        0\n",
       "Name: funny_ratings, Length: 2550, dtype: int64"
      ]
     },
     "execution_count": 58,
     "metadata": {},
     "output_type": "execute_result"
    }
   ],
   "source": [
    "ted.funny_ratings"
   ]
  },
  {
   "cell_type": "code",
   "execution_count": 59,
   "id": "91b44e91",
   "metadata": {},
   "outputs": [],
   "source": [
    "ted['funny_rate'] = ted.funny_ratings/ted.num_ratings"
   ]
  },
  {
   "cell_type": "code",
   "execution_count": 62,
   "id": "2751b06f",
   "metadata": {},
   "outputs": [
    {
     "data": {
      "text/plain": [
       "2114            Comedian and writer\n",
       "173                        Investor\n",
       "747                        Comedian\n",
       "1398                       Comedian\n",
       "685     Actor, comedian, playwright\n",
       "Name: speaker_occupation, dtype: object"
      ]
     },
     "execution_count": 62,
     "metadata": {},
     "output_type": "execute_result"
    }
   ],
   "source": [
    "ted.sort_values('funny_rate').speaker_occupation.tail()"
   ]
  },
  {
   "cell_type": "code",
   "execution_count": 63,
   "id": "59e47a39",
   "metadata": {},
   "outputs": [
    {
     "data": {
      "text/plain": [
       "speaker_occupation\n",
       "Comedian                       0.512457\n",
       "Actor, writer                  0.515152\n",
       "Actor, comedian, playwright    0.558107\n",
       "Jugglers                       0.566828\n",
       "Comedian and writer            0.602085\n",
       "Name: funny_rate, dtype: float64"
      ]
     },
     "execution_count": 63,
     "metadata": {},
     "output_type": "execute_result"
    }
   ],
   "source": [
    "# step 3: Analyze the Funny rate by occupation\n",
    "\n",
    "ted.groupby('speaker_occupation').funny_rate.mean().sort_values().tail()"
   ]
  },
  {
   "cell_type": "code",
   "execution_count": 65,
   "id": "1dae31b6",
   "metadata": {},
   "outputs": [
    {
     "data": {
      "text/html": [
       "<div>\n",
       "<style scoped>\n",
       "    .dataframe tbody tr th:only-of-type {\n",
       "        vertical-align: middle;\n",
       "    }\n",
       "\n",
       "    .dataframe tbody tr th {\n",
       "        vertical-align: top;\n",
       "    }\n",
       "\n",
       "    .dataframe thead th {\n",
       "        text-align: right;\n",
       "    }\n",
       "</style>\n",
       "<table border=\"1\" class=\"dataframe\">\n",
       "  <thead>\n",
       "    <tr style=\"text-align: right;\">\n",
       "      <th></th>\n",
       "      <th>comments</th>\n",
       "      <th>description</th>\n",
       "      <th>duration</th>\n",
       "      <th>event</th>\n",
       "      <th>film_date</th>\n",
       "      <th>languages</th>\n",
       "      <th>main_speaker</th>\n",
       "      <th>name</th>\n",
       "      <th>num_speaker</th>\n",
       "      <th>published_date</th>\n",
       "      <th>...</th>\n",
       "      <th>title</th>\n",
       "      <th>url</th>\n",
       "      <th>views</th>\n",
       "      <th>cmnts_per_view</th>\n",
       "      <th>views_per_cmts</th>\n",
       "      <th>film_datetime</th>\n",
       "      <th>ratings_list</th>\n",
       "      <th>num_ratings</th>\n",
       "      <th>funny_ratings</th>\n",
       "      <th>funny_rate</th>\n",
       "    </tr>\n",
       "  </thead>\n",
       "  <tbody>\n",
       "    <tr>\n",
       "      <th>135</th>\n",
       "      <td>36</td>\n",
       "      <td>After Vusi Mahlasela's 3-song set at TEDGlobal...</td>\n",
       "      <td>299</td>\n",
       "      <td>TEDGlobal 2007</td>\n",
       "      <td>1181260800</td>\n",
       "      <td>0</td>\n",
       "      <td>Vusi Mahlasela</td>\n",
       "      <td>Vusi Mahlasela: \"Woza\"</td>\n",
       "      <td>1</td>\n",
       "      <td>1187695440</td>\n",
       "      <td>...</td>\n",
       "      <td>\"Woza\"</td>\n",
       "      <td>https://www.ted.com/talks/vusi_mahlasela_s_enc...</td>\n",
       "      <td>416603</td>\n",
       "      <td>0.000086</td>\n",
       "      <td>11572.305556</td>\n",
       "      <td>2007-06-08</td>\n",
       "      <td>[{'id': 8, 'name': 'Informative', 'count': 4},...</td>\n",
       "      <td>456</td>\n",
       "      <td>17</td>\n",
       "      <td>0.037281</td>\n",
       "    </tr>\n",
       "  </tbody>\n",
       "</table>\n",
       "<p>1 rows × 24 columns</p>\n",
       "</div>"
      ],
      "text/plain": [
       "     comments                                        description  duration  \\\n",
       "135        36  After Vusi Mahlasela's 3-song set at TEDGlobal...       299   \n",
       "\n",
       "              event   film_date  languages    main_speaker  \\\n",
       "135  TEDGlobal 2007  1181260800          0  Vusi Mahlasela   \n",
       "\n",
       "                       name  num_speaker  published_date  ...   title  \\\n",
       "135  Vusi Mahlasela: \"Woza\"            1      1187695440  ...  \"Woza\"   \n",
       "\n",
       "                                                   url   views cmnts_per_view  \\\n",
       "135  https://www.ted.com/talks/vusi_mahlasela_s_enc...  416603       0.000086   \n",
       "\n",
       "    views_per_cmts film_datetime  \\\n",
       "135   11572.305556    2007-06-08   \n",
       "\n",
       "                                          ratings_list  num_ratings  \\\n",
       "135  [{'id': 8, 'name': 'Informative', 'count': 4},...          456   \n",
       "\n",
       "     funny_ratings funny_rate  \n",
       "135             17   0.037281  \n",
       "\n",
       "[1 rows x 24 columns]"
      ]
     },
     "execution_count": 65,
     "metadata": {},
     "output_type": "execute_result"
    }
   ],
   "source": [
    "ted.sample()"
   ]
  },
  {
   "cell_type": "code",
   "execution_count": 67,
   "id": "0dbb75c8",
   "metadata": {},
   "outputs": [
    {
     "data": {
      "text/plain": [
       "count       2544\n",
       "unique      1458\n",
       "top       Writer\n",
       "freq          45\n",
       "Name: speaker_occupation, dtype: object"
      ]
     },
     "execution_count": 67,
     "metadata": {},
     "output_type": "execute_result"
    }
   ],
   "source": [
    "ted.speaker_occupation.describe()"
   ]
  },
  {
   "cell_type": "code",
   "execution_count": 70,
   "id": "c53b0386",
   "metadata": {},
   "outputs": [],
   "source": [
    "# step 4: Focus on occupations that are well - represented in the data \n",
    "\n",
    "ted['occupation_count']=ted.speaker_occupation.value_counts()"
   ]
  },
  {
   "cell_type": "code",
   "execution_count": 73,
   "id": "5751aa82",
   "metadata": {},
   "outputs": [
    {
     "data": {
      "text/plain": [
       "Series([], Name: occupation_count, dtype: float64)"
      ]
     },
     "execution_count": 73,
     "metadata": {},
     "output_type": "execute_result"
    }
   ],
   "source": [
    "ted.occupation_count[ted.occupation_count>=5]"
   ]
  },
  {
   "cell_type": "code",
   "execution_count": 74,
   "id": "90f07f09",
   "metadata": {},
   "outputs": [],
   "source": [
    "occupation_counts = ted.speaker_occupation.value_counts()"
   ]
  },
  {
   "cell_type": "code",
   "execution_count": 78,
   "id": "0c98dd94",
   "metadata": {},
   "outputs": [],
   "source": [
    "top_occupations= occupation_counts[occupation_counts>=5].index"
   ]
  },
  {
   "cell_type": "code",
   "execution_count": 79,
   "id": "3f398963",
   "metadata": {},
   "outputs": [
    {
     "data": {
      "text/plain": [
       "pandas.core.indexes.base.Index"
      ]
     },
     "execution_count": 79,
     "metadata": {},
     "output_type": "execute_result"
    }
   ],
   "source": [
    "type(top_occupations)"
   ]
  },
  {
   "cell_type": "code",
   "execution_count": 82,
   "id": "cb4f4cb5",
   "metadata": {},
   "outputs": [],
   "source": [
    "ted_top_occupations =ted[ted.speaker_occupation . isin(top_occupations)]"
   ]
  },
  {
   "cell_type": "code",
   "execution_count": 84,
   "id": "17913b20",
   "metadata": {},
   "outputs": [
    {
     "data": {
      "text/plain": [
       "speaker_occupation\n",
       "Surgeon                                       0.002465\n",
       "Physician                                     0.004515\n",
       "Photojournalist                               0.004908\n",
       "Investor and advocate for moral leadership    0.005198\n",
       "Photographer                                  0.007152\n",
       "                                                ...   \n",
       "Data scientist                                0.184076\n",
       "Producer                                      0.202531\n",
       "Singer/songwriter                             0.252205\n",
       "Performance poet, multimedia artist           0.306468\n",
       "Comedian                                      0.512457\n",
       "Name: funny_rate, Length: 68, dtype: float64"
      ]
     },
     "execution_count": 84,
     "metadata": {},
     "output_type": "execute_result"
    }
   ],
   "source": [
    "ted_top_occupations.groupby('speaker_occupation').funny_rate.mean().sort_values()"
   ]
  },
  {
   "cell_type": "code",
   "execution_count": null,
   "id": "6325a631",
   "metadata": {},
   "outputs": [],
   "source": []
  },
  {
   "cell_type": "code",
   "execution_count": null,
   "id": "a923f64e",
   "metadata": {},
   "outputs": [],
   "source": []
  },
  {
   "cell_type": "code",
   "execution_count": 75,
   "id": "018db9b1",
   "metadata": {},
   "outputs": [
    {
     "data": {
      "text/html": [
       "<div>\n",
       "<style scoped>\n",
       "    .dataframe tbody tr th:only-of-type {\n",
       "        vertical-align: middle;\n",
       "    }\n",
       "\n",
       "    .dataframe tbody tr th {\n",
       "        vertical-align: top;\n",
       "    }\n",
       "\n",
       "    .dataframe thead th {\n",
       "        text-align: right;\n",
       "    }\n",
       "</style>\n",
       "<table border=\"1\" class=\"dataframe\">\n",
       "  <thead>\n",
       "    <tr style=\"text-align: right;\">\n",
       "      <th></th>\n",
       "      <th>comments</th>\n",
       "      <th>description</th>\n",
       "      <th>duration</th>\n",
       "      <th>event</th>\n",
       "      <th>film_date</th>\n",
       "      <th>languages</th>\n",
       "      <th>main_speaker</th>\n",
       "      <th>name</th>\n",
       "      <th>num_speaker</th>\n",
       "      <th>published_date</th>\n",
       "      <th>...</th>\n",
       "      <th>url</th>\n",
       "      <th>views</th>\n",
       "      <th>cmnts_per_view</th>\n",
       "      <th>views_per_cmts</th>\n",
       "      <th>film_datetime</th>\n",
       "      <th>ratings_list</th>\n",
       "      <th>num_ratings</th>\n",
       "      <th>funny_ratings</th>\n",
       "      <th>funny_rate</th>\n",
       "      <th>occupation_count</th>\n",
       "    </tr>\n",
       "  </thead>\n",
       "  <tbody>\n",
       "    <tr>\n",
       "      <th>825</th>\n",
       "      <td>117</td>\n",
       "      <td>If you've been in a restaurant kitchen, you've...</td>\n",
       "      <td>529</td>\n",
       "      <td>TEDGlobal 2010</td>\n",
       "      <td>1279152000</td>\n",
       "      <td>32</td>\n",
       "      <td>Arthur Potts Dawson</td>\n",
       "      <td>Arthur Potts Dawson: A vision for sustainable ...</td>\n",
       "      <td>1</td>\n",
       "      <td>1291391400</td>\n",
       "      <td>...</td>\n",
       "      <td>https://www.ted.com/talks/arthur_potts_dawson_...</td>\n",
       "      <td>833901</td>\n",
       "      <td>0.00014</td>\n",
       "      <td>7127.358974</td>\n",
       "      <td>2010-07-15</td>\n",
       "      <td>[{'id': 25, 'name': 'OK', 'count': 88}, {'id':...</td>\n",
       "      <td>1177</td>\n",
       "      <td>21</td>\n",
       "      <td>0.017842</td>\n",
       "      <td>NaN</td>\n",
       "    </tr>\n",
       "  </tbody>\n",
       "</table>\n",
       "<p>1 rows × 25 columns</p>\n",
       "</div>"
      ],
      "text/plain": [
       "     comments                                        description  duration  \\\n",
       "825       117  If you've been in a restaurant kitchen, you've...       529   \n",
       "\n",
       "              event   film_date  languages         main_speaker  \\\n",
       "825  TEDGlobal 2010  1279152000         32  Arthur Potts Dawson   \n",
       "\n",
       "                                                  name  num_speaker  \\\n",
       "825  Arthur Potts Dawson: A vision for sustainable ...            1   \n",
       "\n",
       "     published_date  ...                                                url  \\\n",
       "825      1291391400  ...  https://www.ted.com/talks/arthur_potts_dawson_...   \n",
       "\n",
       "      views cmnts_per_view views_per_cmts film_datetime  \\\n",
       "825  833901        0.00014    7127.358974    2010-07-15   \n",
       "\n",
       "                                          ratings_list  num_ratings  \\\n",
       "825  [{'id': 25, 'name': 'OK', 'count': 88}, {'id':...         1177   \n",
       "\n",
       "     funny_ratings  funny_rate occupation_count  \n",
       "825             21    0.017842              NaN  \n",
       "\n",
       "[1 rows x 25 columns]"
      ]
     },
     "execution_count": 75,
     "metadata": {},
     "output_type": "execute_result"
    }
   ],
   "source": [
    "ted.sample()"
   ]
  },
  {
   "cell_type": "code",
   "execution_count": null,
   "id": "b27189f3",
   "metadata": {},
   "outputs": [],
   "source": []
  },
  {
   "cell_type": "code",
   "execution_count": null,
   "id": "d28cf289",
   "metadata": {},
   "outputs": [],
   "source": []
  }
 ],
 "metadata": {
  "kernelspec": {
   "display_name": "Python 3 (ipykernel)",
   "language": "python",
   "name": "python3"
  },
  "language_info": {
   "codemirror_mode": {
    "name": "ipython",
    "version": 3
   },
   "file_extension": ".py",
   "mimetype": "text/x-python",
   "name": "python",
   "nbconvert_exporter": "python",
   "pygments_lexer": "ipython3",
   "version": "3.8.5"
  }
 },
 "nbformat": 4,
 "nbformat_minor": 5
}
